{
  "nbformat": 4,
  "nbformat_minor": 0,
  "metadata": {
    "colab": {
      "name": "Weather.ipynb",
      "provenance": []
    },
    "kernelspec": {
      "name": "python3",
      "display_name": "Python 3"
    },
    "language_info": {
      "name": "python"
    }
  },
  "cells": [
    {
      "cell_type": "markdown",
      "metadata": {
        "id": "RKzxoITDgpTn"
      },
      "source": [
        "## **`Project`**\n",
        "Fetching Weather information with 3rd party API using Python. And also record this informatioin in to a text file"
      ]
    },
    {
      "cell_type": "code",
      "metadata": {
        "colab": {
          "base_uri": "https://localhost:8080/"
        },
        "id": "e6wfBoRyggco",
        "outputId": "a51a8152-5186-4e28-d022-9f2d89ac225f"
      },
      "source": [
        "import requests\n",
        "from datetime import datetime\n",
        "import json\n",
        "api_keys = \"e8c1745e1fa01bff5740bff325ea630f\"\n",
        "location = input(\"Enter the city name : \")\n",
        "\n",
        "complete_api_link = \"https://api.openweathermap.org/data/2.5/weather?q=\"+location+\"&appid=\"+api_keys\n",
        "api_link = requests.get(complete_api_link)\n",
        "api_data = api_link.json()\n",
        "#print(complete_api_link)\n",
        "#print(api_link)\n",
        "#print(api_data)\n",
        "\n",
        "#create variable to store and display data\n",
        "temp_city = ((api_data['main']['temp']) - 273.15)\n",
        "weather_desc = api_data['weather'][0]['description']\n",
        "humid = api_data['main']['humidity']\n",
        "wind_speed = api_data['wind']['speed']\n",
        "date_time = datetime.now().strftime(\"%d-%b-%Y | %I:%M:%S %p\")\n",
        "\n",
        "print(\"___________________________________________________________\")\n",
        "print(\"Weathere Stats for - {} || {}\".format(location.upper(), date_time))\n",
        "print(\"___________________________________________________________\")\n",
        "print(\"Current Temperature is : {:.2f} deg C\".format(temp_city))\n",
        "print(\"Current weather desc : \",weather_desc)\n",
        "print(\"Current Humidity : \",humid,'%')\n",
        "print(\"Current Wind speed : \",wind_speed,\"hmph\")\n",
        "import json \n",
        "    \n",
        "# python object(dictionary) to be dumped \n",
        "weather ={ \n",
        "    \"Weathere Stats for - {} || {}\".format(location.upper(), date_time): { \n",
        "        \"Temperature\": \"{:.2f} deg C\".format(temp_city), \n",
        "        \"Weather Desc\": str(weather_desc), \n",
        "        \"Humidity\": str(humid)+'%',\n",
        "        \"Wind speed\": str(wind_speed)+\"hmph\"\n",
        "    }\n",
        "} \n",
        "    \n",
        "# the json file where the output must be stored \n",
        "out_file = open(\"weatherfile.json\", \"w\") \n",
        "    \n",
        "json.dump(weather, out_file, indent = 6) \n",
        "    \n",
        "out_file.close()\n",
        "\n",
        "\n",
        "\n"
      ],
      "execution_count": 7,
      "outputs": [
        {
          "output_type": "stream",
          "text": [
            "Enter the city name : kochi\n",
            "___________________________________________________________\n",
            "Weathere Stats for - KOCHI || 22-Jun-2021 | 04:26:33 PM\n",
            "___________________________________________________________\n",
            "Current Temperature is : 26.99 deg C\n",
            "Current weather desc :  moderate rain\n",
            "Current Humidity :  87 %\n",
            "Current Wind speed :  4.33 hmph\n"
          ],
          "name": "stdout"
        }
      ]
    },
    {
      "cell_type": "markdown",
      "metadata": {
        "id": "fqfNL9xah_Dl"
      },
      "source": [
        "# New Section"
      ]
    },
    {
      "cell_type": "markdown",
      "metadata": {
        "id": "OpLwkV4dgn5F"
      },
      "source": [
        ""
      ]
    }
  ]
}